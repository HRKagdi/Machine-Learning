{
  "nbformat": 4,
  "nbformat_minor": 0,
  "metadata": {
    "colab": {
      "name": "BackPropagation.ipynb",
      "provenance": [],
      "collapsed_sections": [],
      "authorship_tag": "ABX9TyMYxAySKkPxubDs0HYoDbLA",
      "include_colab_link": true
    },
    "kernelspec": {
      "name": "python3",
      "display_name": "Python 3"
    },
    "accelerator": "GPU"
  },
  "cells": [
    {
      "cell_type": "markdown",
      "metadata": {
        "id": "view-in-github",
        "colab_type": "text"
      },
      "source": [
        "<a href=\"https://colab.research.google.com/github/HRKagdi/Machine-Learning/blob/master/BackPropagation.ipynb\" target=\"_parent\"><img src=\"https://colab.research.google.com/assets/colab-badge.svg\" alt=\"Open In Colab\"/></a>"
      ]
    },
    {
      "cell_type": "code",
      "metadata": {
        "id": "G6CbJkZs5wrv",
        "colab_type": "code",
        "colab": {}
      },
      "source": [
        "#Importing the required Libraries\n",
        "import numpy as np\n",
        "import matplotlib.pyplot as plt "
      ],
      "execution_count": 0,
      "outputs": []
    },
    {
      "cell_type": "code",
      "metadata": {
        "id": "37-dFGMj6W70",
        "colab_type": "code",
        "colab": {}
      },
      "source": [
        "from sklearn.datasets import load_iris\n",
        "data = load_iris()"
      ],
      "execution_count": 0,
      "outputs": []
    },
    {
      "cell_type": "code",
      "metadata": {
        "id": "mUTJjcB86ZoS",
        "colab_type": "code",
        "outputId": "e201dfc6-7019-4722-fb6e-29313a2c8f4c",
        "colab": {
          "base_uri": "https://localhost:8080/",
          "height": 34
        }
      },
      "source": [
        "print(data.target.shape)"
      ],
      "execution_count": 3,
      "outputs": [
        {
          "output_type": "stream",
          "text": [
            "(150,)\n"
          ],
          "name": "stdout"
        }
      ]
    },
    {
      "cell_type": "code",
      "metadata": {
        "id": "tisfoqbD6bDo",
        "colab_type": "code",
        "colab": {}
      },
      "source": [
        "X=data.data\n",
        "Y=data.target"
      ],
      "execution_count": 0,
      "outputs": []
    },
    {
      "cell_type": "code",
      "metadata": {
        "id": "SwvfhP7VrCzv",
        "colab_type": "code",
        "colab": {}
      },
      "source": [
        "#Code for randomly shuffling the dataset\n",
        "from scipy.sparse import coo_matrix\n",
        "X_sparse = coo_matrix(X)\n",
        "from sklearn.utils import shuffle\n",
        "X, X_sparse, y = shuffle(X, X_sparse, Y, random_state=0)\n",
        "X=X_sparse.toarray()\n",
        "Y=y"
      ],
      "execution_count": 0,
      "outputs": []
    },
    {
      "cell_type": "code",
      "metadata": {
        "id": "KNH4b8AJ6lmG",
        "colab_type": "code",
        "outputId": "6f194746-b99d-4551-8369-5eaf35f0a68f",
        "colab": {
          "base_uri": "https://localhost:8080/",
          "height": 34
        }
      },
      "source": [
        "print(X.shape)"
      ],
      "execution_count": 6,
      "outputs": [
        {
          "output_type": "stream",
          "text": [
            "(150, 4)\n"
          ],
          "name": "stdout"
        }
      ]
    },
    {
      "cell_type": "code",
      "metadata": {
        "id": "DIQPiMUY7_Nl",
        "colab_type": "code",
        "colab": {}
      },
      "source": [
        "Y=Y.reshape(150,1)"
      ],
      "execution_count": 0,
      "outputs": []
    },
    {
      "cell_type": "code",
      "metadata": {
        "id": "nOm8RRJc8CjO",
        "colab_type": "code",
        "colab": {}
      },
      "source": [
        "#Divivding the dataset into training and testing \n",
        "train_X=X[0:125,:]\n",
        "train_Y=Y[0:125,:]\n",
        "test_X=X[125:,:]\n",
        "test_Y=Y[125:,:]"
      ],
      "execution_count": 0,
      "outputs": []
    },
    {
      "cell_type": "code",
      "metadata": {
        "id": "xQR43mWM8fyI",
        "colab_type": "code",
        "colab": {}
      },
      "source": [
        "def sigmoid(x):\n",
        "  for i in range(0,x.shape[0]):\n",
        "    x[i]=1/(1+np.exp(-1*x[i]))\n",
        "  return x"
      ],
      "execution_count": 0,
      "outputs": []
    },
    {
      "cell_type": "code",
      "metadata": {
        "id": "DOpw-uFz8xHh",
        "colab_type": "code",
        "colab": {}
      },
      "source": [
        "def diffSigmoid(x):\n",
        "  for i in  range(0,len(x)):\n",
        "    y=1/(1+np.exp(-1*x[i]))\n",
        "    x[i]=y*(1-y)\n",
        "  return x "
      ],
      "execution_count": 0,
      "outputs": []
    },
    {
      "cell_type": "code",
      "metadata": {
        "id": "PtsJignC_nWd",
        "colab_type": "code",
        "outputId": "899a2650-03ac-4a2c-af90-99e956e80dad",
        "colab": {
          "base_uri": "https://localhost:8080/",
          "height": 34
        }
      },
      "source": [
        "print(Y.shape)"
      ],
      "execution_count": 12,
      "outputs": [
        {
          "output_type": "stream",
          "text": [
            "(150, 1)\n"
          ],
          "name": "stdout"
        }
      ]
    },
    {
      "cell_type": "code",
      "metadata": {
        "id": "_SvakYLEcfJk",
        "colab_type": "code",
        "colab": {}
      },
      "source": [
        "#Random initialization of Weights Matrices\n",
        "#Model contains 4 layers having 4->8->8->3 neurons respectively\n",
        "w12=np.random.rand(8,4)\n",
        "b1=np.random.rand(8,1)\n",
        "w23=np.random.rand(8,8)\n",
        "b2=np.random.rand(8,1)\n",
        "w34=np.random.rand(3,8)\n",
        "b3=np.random.rand(3,1)"
      ],
      "execution_count": 0,
      "outputs": []
    },
    {
      "cell_type": "code",
      "metadata": {
        "id": "-4j4siN74WEW",
        "colab_type": "code",
        "outputId": "307fb089-553c-49cd-cdc6-c7ef15b0117f",
        "colab": {
          "base_uri": "https://localhost:8080/",
          "height": 286
        }
      },
      "source": [
        "print(w23)"
      ],
      "execution_count": 14,
      "outputs": [
        {
          "output_type": "stream",
          "text": [
            "[[0.16616811 0.79923688 0.70950016 0.41713829 0.0081651  0.49690902\n",
            "  0.71149381 0.63326834]\n",
            " [0.37841623 0.45339505 0.56816988 0.343976   0.95945031 0.80794165\n",
            "  0.69200573 0.70361616]\n",
            " [0.96182631 0.75813215 0.50032362 0.41863587 0.59899627 0.37063796\n",
            "  0.15210811 0.14780756]\n",
            " [0.88256236 0.50267553 0.09603736 0.34523228 0.38444744 0.84118221\n",
            "  0.71679475 0.89115896]\n",
            " [0.19435115 0.7647265  0.64042732 0.99323795 0.79989344 0.42251823\n",
            "  0.63603514 0.31668484]\n",
            " [0.38889171 0.62436805 0.35862808 0.43577152 0.9735671  0.49126394\n",
            "  0.51570957 0.61623999]\n",
            " [0.66365588 0.29794498 0.38515913 0.61933966 0.8127476  0.52356607\n",
            "  0.08148172 0.95495946]\n",
            " [0.25507315 0.6749317  0.79947909 0.06002974 0.73270969 0.81841176\n",
            "  0.58885822 0.29375379]]\n"
          ],
          "name": "stdout"
        }
      ]
    },
    {
      "cell_type": "code",
      "metadata": {
        "id": "bw0CRunwVW1Q",
        "colab_type": "code",
        "colab": {}
      },
      "source": [
        "def forwardPropagation(X,Y,dict2):\n",
        "    dict ={}\n",
        "    w12=dict2[\"w12\"]\n",
        "    w23=dict2[\"w23\"]\n",
        "    w34=dict2[\"w34\"]\n",
        "    b1=dict2[\"b1\"]\n",
        "    b2=dict2[\"b2\"]\n",
        "    b3=dict2[\"b3\"]\n",
        "    X=np.asarray(X)\n",
        "    X=X.reshape((4,1))\n",
        "    net1=np.dot(w12,X)+b1\n",
        "    a1=sigmoid(net1)\n",
        "    net2=np.dot(w23,a1)+b2\n",
        "    a2=sigmoid(net2)\n",
        "    net3=np.dot(w34,a2)+b3\n",
        "    a3=sigmoid(net3)\n",
        "    error=1/2*np.sum(pow((Y-a3),2))\n",
        "    dict[\"a1\"]=a1\n",
        "    dict[\"a2\"]=a2\n",
        "    dict[\"a3\"]=a3\n",
        "    dict[\"net1\"]=net1\n",
        "    dict[\"net2\"]=net2\n",
        "    dict[\"net3\"]=net3\n",
        "    dict[\"err\"]=error\n",
        "    return dict"
      ],
      "execution_count": 0,
      "outputs": []
    },
    {
      "cell_type": "code",
      "metadata": {
        "id": "S-NtYWjacJ3c",
        "colab_type": "code",
        "colab": {}
      },
      "source": [
        "def Backpropagation(X,y,alpha,dict,dict2):\n",
        "  a1=dict[\"a1\"]\n",
        "  a2=dict[\"a2\"]\n",
        "  a3=dict[\"a3\"]\n",
        "  net1=dict[\"net1\"]\n",
        "  net2=dict[\"net2\"]\n",
        "  net3=dict[\"net3\"]\n",
        "  error=dict[\"err\"]\n",
        "  w12=dict2[\"w12\"]\n",
        "  w23=dict2[\"w23\"]\n",
        "  w34=dict2[\"w34\"]\n",
        "  b1=dict2[\"b1\"]\n",
        "  b2=dict2[\"b2\"]\n",
        "  b3=dict2[\"b3\"]\n",
        "  y1=np.zeros((3,1))\n",
        "  y1[y]=1\n",
        "  a3=a3.reshape((3,1))\n",
        "  a2=a2.reshape((8,1))\n",
        "  a1=a1.reshape((8,1))\n",
        "  X=np.asarray(X)\n",
        "  X=X.reshape((4,1))\n",
        "  temp=np.multiply(a3-y1,np.multiply(a3,np.ones(a3.shape)-a3))\n",
        "  temp2=np.multiply(np.dot(temp.transpose(),w34).T,np.multiply(a2,np.ones(a2.shape)-a2))\n",
        "  temp3=np.multiply(np.dot(temp2.transpose(),w23).T,np.multiply(a1,np.ones(a1.shape)-a1))\n",
        "  w34=w34-(alpha)*(np.dot(temp,a2.T))\n",
        "  b3=b3-(alpha)*temp \n",
        "  w23=w23-(alpha)*(np.dot(temp2,a1.T))\n",
        "  b2=b2-(alpha)*temp2\n",
        "  w12=w12-(alpha)*(np.dot(temp3,X.T))            \n",
        "  b1=b1-(alpha)*(temp3)\n",
        "  dict2[\"w12\"]=w12\n",
        "  dict2[\"w23\"]=w23 \n",
        "  dict2[\"w34\"]=w34\n",
        "  dict2[\"b1\"]=b1\n",
        "  dict2[\"b2\"]=b2\n",
        "  dict2[\"b3\"]=b3\n",
        "  return dict2"
      ],
      "execution_count": 0,
      "outputs": []
    },
    {
      "cell_type": "code",
      "metadata": {
        "id": "7RbF2ejfp0IR",
        "colab_type": "code",
        "colab": {}
      },
      "source": [
        "def main(X,y):\n",
        "  max_iter=8000\n",
        "  alpha=0.01\n",
        "  weights={}\n",
        "  cost_list=[]\n",
        "  weights[\"w12\"]=w12\n",
        "  weights[\"w23\"]=w23 \n",
        "  weights[\"w34\"]=w34\n",
        "  weights[\"b1\"]=b1\n",
        "  weights[\"b2\"]=b2\n",
        "  weights[\"b3\"]=b3\n",
        "  weights['No_of_Iter']=max_iter\n",
        "  while(True):\n",
        "    for i in range(1,X.shape[0]):\n",
        "      d1=forwardPropagation(X[i],y[i],weights)\n",
        "      weights=Backpropagation(X[i],y[i],alpha,d1,weights)\n",
        "      curr_error=d1[\"err\"]\n",
        "    max_iter=max_iter-1\n",
        "    if(max_iter<0):\n",
        "      break\n",
        "    final=d1[\"err\"]\n",
        "    cost_list.append(final)\n",
        "  weights['cost']=cost_list\n",
        "  return weights"
      ],
      "execution_count": 0,
      "outputs": []
    },
    {
      "cell_type": "code",
      "metadata": {
        "id": "G38d_3LLzat5",
        "colab_type": "code",
        "outputId": "59c7e6fa-843c-44b8-dd1b-935b7834a2bf",
        "colab": {
          "base_uri": "https://localhost:8080/",
          "height": 286
        }
      },
      "source": [
        "ans=main(train_X,train_Y)\n",
        "u=ans[\"w23\"]\n",
        "print(u)"
      ],
      "execution_count": 24,
      "outputs": [
        {
          "output_type": "stream",
          "text": [
            "[[ 0.32006121  0.92897981  0.75112722  0.17751267  0.15762444  0.65089991\n",
            "   0.85958315  0.77931255]\n",
            " [ 0.41229883  0.48240471  0.55742791  0.21107468  0.99334822  0.84185918\n",
            "   0.72474932  0.73547902]\n",
            " [-0.05216973 -0.15833399 -1.45821935  6.00256884 -0.39744372 -0.64438502\n",
            "  -0.84024771 -0.81501873]\n",
            " [ 0.95334969  0.55939807  0.08006493  0.21467161  0.45197769  0.91201513\n",
            "   0.78439369  0.95771882]\n",
            " [ 0.28102712  0.84796732  0.64054587  0.98543046  0.88513423  0.5092052\n",
            "   0.72197716  0.40201224]\n",
            " [ 0.4327268   0.66721284  0.2941235   0.42499433  1.01575054  0.53509511\n",
            "   0.55941844  0.65950632]\n",
            " [-1.17194537 -1.34575722  6.90462162  5.00217488 -0.9271402  -1.31258568\n",
            "  -1.71927008 -0.79679151]\n",
            " [-0.05529439  0.35421422  3.40301915 -3.35154591  0.43356685  0.50854351\n",
            "   0.2759069  -0.02632051]]\n"
          ],
          "name": "stdout"
        }
      ]
    },
    {
      "cell_type": "code",
      "metadata": {
        "id": "zqggf1jDJHxD",
        "colab_type": "code",
        "outputId": "63a1fc1b-29d9-4587-9347-72e488ed6a48",
        "colab": {
          "base_uri": "https://localhost:8080/",
          "height": 84
        }
      },
      "source": [
        "#Prediction\n",
        "from sklearn.metrics import mean_squared_error\n",
        "pred=forwardPropagation(test_X[19],test_Y[19],ans);\n",
        "print(pred[\"a3\"])\n",
        "print(test_Y[19])"
      ],
      "execution_count": 25,
      "outputs": [
        {
          "output_type": "stream",
          "text": [
            "[[0.97274675]\n",
            " [0.01821865]\n",
            " [0.00365014]]\n",
            "[0]\n"
          ],
          "name": "stdout"
        }
      ]
    },
    {
      "cell_type": "code",
      "metadata": {
        "id": "d1Zo9ueWKRbm",
        "colab_type": "code",
        "outputId": "846ba5f3-2e14-43b9-a4b5-25cc0fff08a9",
        "colab": {
          "base_uri": "https://localhost:8080/",
          "height": 34
        }
      },
      "source": [
        "test_X.shape"
      ],
      "execution_count": 26,
      "outputs": [
        {
          "output_type": "execute_result",
          "data": {
            "text/plain": [
              "(25, 4)"
            ]
          },
          "metadata": {
            "tags": []
          },
          "execution_count": 26
        }
      ]
    },
    {
      "cell_type": "code",
      "metadata": {
        "id": "InmVGqDX1Q8K",
        "colab_type": "code",
        "outputId": "1263708a-b402-4118-adc0-087d424fd3c2",
        "colab": {
          "base_uri": "https://localhost:8080/",
          "height": 297
        }
      },
      "source": [
        "i=ans['No_of_Iter']\n",
        "iter=np.arange(0,i)\n",
        "error=ans['cost']\n",
        "plt.plot(iter,error)\n",
        "plt.xlabel('No_of_iterations')\n",
        "plt.ylabel('Error')\n",
        "plt.show"
      ],
      "execution_count": 27,
      "outputs": [
        {
          "output_type": "execute_result",
          "data": {
            "text/plain": [
              "<function matplotlib.pyplot.show>"
            ]
          },
          "metadata": {
            "tags": []
          },
          "execution_count": 27
        },
        {
          "output_type": "display_data",
          "data": {
            "image/png": "[encoded data removed]",
            "text/plain": [
              "<Figure size 432x288 with 1 Axes>"
            ]
          },
          "metadata": {
            "tags": [],
            "needs_background": "light"
          }
        }
      ]
    },
    {
      "cell_type": "code",
      "metadata": {
        "id": "JNt0e5Yg4cSH",
        "colab_type": "code",
        "colab": {}
      },
      "source": [
        ""
      ],
      "execution_count": 0,
      "outputs": []
    }
  ]
}