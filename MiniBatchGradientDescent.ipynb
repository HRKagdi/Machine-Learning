{
  "nbformat": 4,
  "nbformat_minor": 0,
  "metadata": {
    "colab": {
      "name": "MiniBatchGradientDescent.ipynb",
      "provenance": [],
      "collapsed_sections": [],
      "include_colab_link": true
    },
    "kernelspec": {
      "name": "python3",
      "display_name": "Python 3"
    }
  },
  "cells": [
    {
      "cell_type": "markdown",
      "metadata": {
        "id": "view-in-github",
        "colab_type": "text"
      },
      "source": [
        "<a href=\"https://colab.research.google.com/github/HRKagdi/Machine-Learning/blob/master/MiniBatchGradientDescent.ipynb\" target=\"_parent\"><img src=\"https://colab.research.google.com/assets/colab-badge.svg\" alt=\"Open In Colab\"/></a>"
      ]
    },
    {
      "cell_type": "code",
      "metadata": {
        "id": "bxK4xVFq5Rij",
        "colab_type": "code",
        "colab": {}
      },
      "source": [
        "#Importing the required libraries\n",
        "import numpy as np\n",
        "import matplotlib.pyplot as plt\n",
        "import sklearn"
      ],
      "execution_count": 0,
      "outputs": []
    },
    {
      "cell_type": "code",
      "metadata": {
        "id": "z-8glj9b5qr8",
        "colab_type": "code",
        "colab": {}
      },
      "source": [
        "from sklearn import datasets\n",
        "from sklearn.preprocessing import StandardScaler"
      ],
      "execution_count": 0,
      "outputs": []
    },
    {
      "cell_type": "code",
      "metadata": {
        "id": "P-AuKoiN5vJz",
        "colab_type": "code",
        "outputId": "07deec81-7be9-456b-ae88-b4fa53df8166",
        "colab": {
          "base_uri": "https://localhost:8080/",
          "height": 34
        }
      },
      "source": [
        "#Loading the Boston Housing Dataset\n",
        "from sklearn.datasets import load_boston\n",
        "X, y = load_boston(return_X_y=True)\n",
        "print(X.shape)"
      ],
      "execution_count": 3,
      "outputs": [
        {
          "output_type": "stream",
          "text": [
            "(506, 13)\n"
          ],
          "name": "stdout"
        }
      ]
    },
    {
      "cell_type": "code",
      "metadata": {
        "id": "4TIMdt4p5w7R",
        "colab_type": "code",
        "colab": {}
      },
      "source": [
        "#Dividing the dataset into training and test \n",
        "x_train=X[0:400,:]\n",
        "y_train=y[0:400]\n",
        "x_test=X[400:506,:]\n",
        "y_test=y[400:506]"
      ],
      "execution_count": 0,
      "outputs": []
    },
    {
      "cell_type": "code",
      "metadata": {
        "id": "xVts_BvN5zDh",
        "colab_type": "code",
        "colab": {}
      },
      "source": [
        "sc=StandardScaler()\n",
        "sc.fit(x_train)\n",
        "#Normalization\n",
        "x_train=sc.transform(x_train)\n",
        "x_test=sc.transform(x_test)"
      ],
      "execution_count": 0,
      "outputs": []
    },
    {
      "cell_type": "code",
      "metadata": {
        "id": "3g1Rn7Q8506r",
        "colab_type": "code",
        "outputId": "be39c3ba-1c9c-4810-bf6d-0b1c65d977f5",
        "colab": {
          "base_uri": "https://localhost:8080/",
          "height": 34
        }
      },
      "source": [
        "print(x_train.shape)"
      ],
      "execution_count": 6,
      "outputs": [
        {
          "output_type": "stream",
          "text": [
            "(400, 13)\n"
          ],
          "name": "stdout"
        }
      ]
    },
    {
      "cell_type": "code",
      "metadata": {
        "id": "xbA5-XJ_52vh",
        "colab_type": "code",
        "colab": {}
      },
      "source": [
        "#Initailizing the parameters randomly\n",
        "Theta=np.random.rand(14,1)"
      ],
      "execution_count": 0,
      "outputs": []
    },
    {
      "cell_type": "code",
      "metadata": {
        "id": "iR6ES4_B56OL",
        "colab_type": "code",
        "colab": {}
      },
      "source": [
        "#Adding the dummy independent variable\n",
        "Theta[0]=1"
      ],
      "execution_count": 0,
      "outputs": []
    },
    {
      "cell_type": "code",
      "metadata": {
        "id": "rCQphXp0576B",
        "colab_type": "code",
        "outputId": "50793157-2aa2-42f4-8087-c50bb3d9bfd2",
        "colab": {
          "base_uri": "https://localhost:8080/",
          "height": 252
        }
      },
      "source": [
        "print(Theta)"
      ],
      "execution_count": 9,
      "outputs": [
        {
          "output_type": "stream",
          "text": [
            "[[1.        ]\n",
            " [0.57764739]\n",
            " [0.39708512]\n",
            " [0.68981213]\n",
            " [0.80629402]\n",
            " [0.19546204]\n",
            " [0.64161193]\n",
            " [0.97328496]\n",
            " [0.62101258]\n",
            " [0.3043185 ]\n",
            " [0.45681361]\n",
            " [0.83417932]\n",
            " [0.4164412 ]\n",
            " [0.76068957]]\n"
          ],
          "name": "stdout"
        }
      ]
    },
    {
      "cell_type": "code",
      "metadata": {
        "id": "FBrwAiFY59iA",
        "colab_type": "code",
        "colab": {}
      },
      "source": [
        "#Adding the dummy independent variable\n",
        "x_train=np.insert(x_train,0,1,axis=1)\n",
        "x_test=np.insert(x_test,0,1,axis=1)"
      ],
      "execution_count": 0,
      "outputs": []
    },
    {
      "cell_type": "code",
      "metadata": {
        "id": "J_U8pRL65_ZG",
        "colab_type": "code",
        "colab": {}
      },
      "source": [
        "y_train=y_train.reshape(400,1)\n",
        "y_test=y_test.reshape(106,1)"
      ],
      "execution_count": 0,
      "outputs": []
    },
    {
      "cell_type": "code",
      "metadata": {
        "id": "o-TIrqh_6CuZ",
        "colab_type": "code",
        "outputId": "2b92e6b3-f278-49d0-c381-950ff0d40e50",
        "colab": {
          "base_uri": "https://localhost:8080/",
          "height": 34
        }
      },
      "source": [
        "print(x_train.shape)"
      ],
      "execution_count": 14,
      "outputs": [
        {
          "output_type": "stream",
          "text": [
            "(400, 14)\n"
          ],
          "name": "stdout"
        }
      ]
    },
    {
      "cell_type": "code",
      "metadata": {
        "id": "AUTxv_Zm6ElV",
        "colab_type": "code",
        "colab": {}
      },
      "source": [
        "#Cost Function::Mean Square Error\n",
        "def Cost_function(x_train,y_train,Theta):\n",
        "    m=x_train.shape[0]\n",
        "    J_Theta=(1/(2*m))*np.sum(pow((np.dot(x_train,Theta)-y_train),2))\n",
        "    return J_Theta  "
      ],
      "execution_count": 0,
      "outputs": []
    },
    {
      "cell_type": "code",
      "metadata": {
        "id": "qQJB38Hb6HAy",
        "colab_type": "code",
        "colab": {}
      },
      "source": [
        "#Gradient Descent Algorithm\n",
        "def GradientDescent(x_train,y_train,alpha,Theta):\n",
        "  x_mini=x_train[0:50,:]\n",
        "  y_mini=y_train[0:50,:]\n",
        "  J_Theta=Cost_function(x_mini,y_mini,Theta)\n",
        "  cost_list=[]\n",
        "  i=0\n",
        "  print(J_Theta)\n",
        "  dict={}\n",
        "  temp=1000000\n",
        "  max_iterations=15000\n",
        "  size_of_mini_batch=50\n",
        "  number_of_mini_batches=(int)(x_train.shape[0]/size_of_mini_batch)\n",
        "  while(True):\n",
        "    lx=0\n",
        "    rx=50\n",
        "    if(temp-J_Theta<0.00001 and i>max_iterations):\n",
        "      break\n",
        "    temp=J_Theta\n",
        "    for j in range (1,number_of_mini_batches):\n",
        "      x_mini=x_train[lx:rx,:]\n",
        "      y_mini=y_train[lx:rx,:]\n",
        "      J_Theta=Cost_function(x_mini,y_mini,Theta)\n",
        "      Theta=Theta-(1/size_of_mini_batch)*alpha*(np.dot(x_mini.transpose(),np.dot(x_mini,Theta)-y_mini))\n",
        "      lx=lx+50\n",
        "      rx=rx+50\n",
        "      if(lx==400):\n",
        "        break\n",
        "    cost_list.append(J_Theta)\n",
        "    i+=1\n",
        "  #plt.show\n",
        "  dict['cost']=J_Theta\n",
        "  dict['parameters']=Theta\n",
        "  dict['Error']=cost_list\n",
        "  dict['No_of_Iter']=i\n",
        "  return dict"
      ],
      "execution_count": 0,
      "outputs": []
    },
    {
      "cell_type": "code",
      "metadata": {
        "id": "VDRvDjBG8L1W",
        "colab_type": "code",
        "outputId": "67e70728-d490-41ad-ac18-0748701c826c",
        "colab": {
          "base_uri": "https://localhost:8080/",
          "height": 50
        }
      },
      "source": [
        "#Displaying the traning error\n",
        "cost=GradientDescent(x_train,y_train,0.001,Theta)\n",
        "print(cost['cost'])"
      ],
      "execution_count": 17,
      "outputs": [
        {
          "output_type": "stream",
          "text": [
            "227.17448902215762\n",
            "2.5659239370457763\n"
          ],
          "name": "stdout"
        }
      ]
    },
    {
      "cell_type": "code",
      "metadata": {
        "id": "aAh9wjid8NUD",
        "colab_type": "code",
        "outputId": "df10bb22-a41b-4403-877a-c453e6e7d8bb",
        "colab": {
          "base_uri": "https://localhost:8080/",
          "height": 252
        }
      },
      "source": [
        "param=cost['parameters']\n",
        "print(param)"
      ],
      "execution_count": 18,
      "outputs": [
        {
          "output_type": "stream",
          "text": [
            "[[23.87615652]\n",
            " [-0.25246296]\n",
            " [ 0.33314975]\n",
            " [ 0.33053846]\n",
            " [ 0.23725136]\n",
            " [-0.54951178]\n",
            " [ 6.79239955]\n",
            " [-1.38338751]\n",
            " [-2.10602559]\n",
            " [ 0.96216478]\n",
            " [-1.78841293]\n",
            " [-1.52849559]\n",
            " [ 0.45781658]\n",
            " [-0.53042874]]\n"
          ],
          "name": "stdout"
        }
      ]
    },
    {
      "cell_type": "code",
      "metadata": {
        "id": "ReKMejMY8Vog",
        "colab_type": "code",
        "outputId": "ef365fc4-3e78-4f31-b7a9-e2e7fe4d13a7",
        "colab": {
          "base_uri": "https://localhost:8080/",
          "height": 34
        }
      },
      "source": [
        "test_error=Cost_function(x_test,y_test,param)\n",
        "print(test_error)"
      ],
      "execution_count": 19,
      "outputs": [
        {
          "output_type": "stream",
          "text": [
            "14.893885759775696\n"
          ],
          "name": "stdout"
        }
      ]
    },
    {
      "cell_type": "code",
      "metadata": {
        "id": "MUgAw-QX8b0W",
        "colab_type": "code",
        "outputId": "12bd41df-1f59-4930-a473-6be80fe1d006",
        "colab": {
          "base_uri": "https://localhost:8080/",
          "height": 297
        }
      },
      "source": [
        "i=cost['No_of_Iter']\n",
        "iter=np.arange(0,i)\n",
        "error=cost['Error']\n",
        "plt.plot(iter,error)\n",
        "plt.xlabel('No_of_iterations')\n",
        "plt.ylabel('Error')\n",
        "plt.show"
      ],
      "execution_count": 20,
      "outputs": [
        {
          "output_type": "execute_result",
          "data": {
            "text/plain": [
              "<function matplotlib.pyplot.show>"
            ]
          },
          "metadata": {
            "tags": []
          },
          "execution_count": 20
        },
        {
          "output_type": "display_data",
          "data": {
            "image/png": "[encoded data removed]",
            "text/plain": [
              "<Figure size 432x288 with 1 Axes>"
            ]
          },
          "metadata": {
            "tags": [],
            "needs_background": "light"
          }
        }
      ]
    },
    {
      "cell_type": "code",
      "metadata": {
        "id": "UFUolrly8fGy",
        "colab_type": "code",
        "outputId": "375f0d55-cf4a-41cb-fb3e-3973a3af3eaa",
        "colab": {
          "base_uri": "https://localhost:8080/",
          "height": 34
        }
      },
      "source": [
        "m=x_test.shape[0]\n",
        "test_cost=(1/(2*m))*np.sum(pow((np.dot(x_test,param)-y_test),2))\n",
        "print(test_cost)"
      ],
      "execution_count": 21,
      "outputs": [
        {
          "output_type": "stream",
          "text": [
            "14.893885759775696\n"
          ],
          "name": "stdout"
        }
      ]
    },
    {
      "cell_type": "code",
      "metadata": {
        "id": "L1gsqmqmJwOR",
        "colab_type": "code",
        "colab": {}
      },
      "source": [
        "#The test accuracy was found minimum for max_no_of_iterations=15000"
      ],
      "execution_count": 0,
      "outputs": []
    },
    {
      "cell_type": "code",
      "metadata": {
        "id": "1wdvr-ERjw2v",
        "colab_type": "code",
        "colab": {}
      },
      "source": [
        ""
      ],
      "execution_count": 0,
      "outputs": []
    }
  ]
}