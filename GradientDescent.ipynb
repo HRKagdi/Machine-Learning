{
  "nbformat": 4,
  "nbformat_minor": 0,
  "metadata": {
    "colab": {
      "name": "GradientDescent.ipynb",
      "provenance": [],
      "collapsed_sections": [],
      "include_colab_link": true
    },
    "kernelspec": {
      "name": "python3",
      "display_name": "Python 3"
    },
    "accelerator": "GPU"
  },
  "cells": [
    {
      "cell_type": "markdown",
      "metadata": {
        "id": "view-in-github",
        "colab_type": "text"
      },
      "source": [
        "<a href=\"https://colab.research.google.com/github/HRKagdi/Machine-Learning/blob/master/GradientDescent.ipynb\" target=\"_parent\"><img src=\"https://colab.research.google.com/assets/colab-badge.svg\" alt=\"Open In Colab\"/></a>"
      ]
    },
    {
      "cell_type": "code",
      "metadata": {
        "id": "HwSi1umjtpey",
        "colab_type": "code",
        "colab": {}
      },
      "source": [
        "#Importing the required libraries\n",
        "import numpy as np\n",
        "import matplotlib.pyplot as plt\n",
        "import sklearn"
      ],
      "execution_count": 0,
      "outputs": []
    },
    {
      "cell_type": "code",
      "metadata": {
        "id": "GJ7yASSGt-AZ",
        "colab_type": "code",
        "colab": {}
      },
      "source": [
        "from sklearn import datasets\n",
        "from sklearn.preprocessing import StandardScaler"
      ],
      "execution_count": 0,
      "outputs": []
    },
    {
      "cell_type": "code",
      "metadata": {
        "id": "Yh-yoJZTygr0",
        "colab_type": "code",
        "outputId": "ea207e25-3c62-4a74-965f-4cd7d98b8137",
        "colab": {
          "base_uri": "https://localhost:8080/",
          "height": 34
        }
      },
      "source": [
        "#Loading the Boston Housing Dataset\n",
        "from sklearn.datasets import load_boston\n",
        "X, y = load_boston(return_X_y=True)\n",
        "print(X.shape)"
      ],
      "execution_count": 3,
      "outputs": [
        {
          "output_type": "stream",
          "text": [
            "(506, 13)\n"
          ],
          "name": "stdout"
        }
      ]
    },
    {
      "cell_type": "code",
      "metadata": {
        "id": "o-ch7fp9uh8t",
        "colab_type": "code",
        "colab": {}
      },
      "source": [
        "#Dividing the dataset into training and test \n",
        "x_train=X[0:400,:]\n",
        "y_train=y[0:400]\n",
        "x_test=X[400:506,:]\n",
        "y_test=y[400:506]"
      ],
      "execution_count": 0,
      "outputs": []
    },
    {
      "cell_type": "code",
      "metadata": {
        "id": "U9y1ZUA3GLFr",
        "colab_type": "code",
        "colab": {}
      },
      "source": [
        "sc=StandardScaler()\n",
        "sc.fit(x_train)\n",
        "#Normalization\n",
        "x_train=sc.transform(x_train)\n",
        "x_test=sc.transform(x_test)"
      ],
      "execution_count": 0,
      "outputs": []
    },
    {
      "cell_type": "code",
      "metadata": {
        "id": "QOwZ8ndQzXPo",
        "colab_type": "code",
        "outputId": "811e0813-6a2f-44c2-ad6c-868fdf45602a",
        "colab": {
          "base_uri": "https://localhost:8080/",
          "height": 34
        }
      },
      "source": [
        "print(x_train.shape)"
      ],
      "execution_count": 6,
      "outputs": [
        {
          "output_type": "stream",
          "text": [
            "(400, 13)\n"
          ],
          "name": "stdout"
        }
      ]
    },
    {
      "cell_type": "code",
      "metadata": {
        "id": "C1cqwfOc0Oxb",
        "colab_type": "code",
        "colab": {}
      },
      "source": [
        "#Initailizing the parameters randomly\n",
        "Theta=np.random.rand(14,1)"
      ],
      "execution_count": 0,
      "outputs": []
    },
    {
      "cell_type": "code",
      "metadata": {
        "id": "OKiyP9dJ1A3G",
        "colab_type": "code",
        "colab": {}
      },
      "source": [
        "#Adding the dummy independent variable\n",
        "Theta[0]=1"
      ],
      "execution_count": 0,
      "outputs": []
    },
    {
      "cell_type": "code",
      "metadata": {
        "id": "5TUv5YdM1DeF",
        "colab_type": "code",
        "outputId": "6a4b8ad5-fd12-4d19-bfb8-f5043258e30f",
        "colab": {
          "base_uri": "https://localhost:8080/",
          "height": 252
        }
      },
      "source": [
        "print(Theta)"
      ],
      "execution_count": 9,
      "outputs": [
        {
          "output_type": "stream",
          "text": [
            "[[1.        ]\n",
            " [0.96920193]\n",
            " [0.02741718]\n",
            " [0.86368505]\n",
            " [0.66497137]\n",
            " [0.66257273]\n",
            " [0.25856781]\n",
            " [0.35644571]\n",
            " [0.92321011]\n",
            " [0.06365935]\n",
            " [0.37351431]\n",
            " [0.30428206]\n",
            " [0.84691014]\n",
            " [0.47380044]]\n"
          ],
          "name": "stdout"
        }
      ]
    },
    {
      "cell_type": "code",
      "metadata": {
        "id": "z2nZiDde1FQo",
        "colab_type": "code",
        "colab": {}
      },
      "source": [
        "#Adding the dummy independent variable\n",
        "x_train=np.insert(x_train,0,1,axis=1)\n",
        "x_test=np.insert(x_test,0,1,axis=1)"
      ],
      "execution_count": 0,
      "outputs": []
    },
    {
      "cell_type": "code",
      "metadata": {
        "id": "2ZCzZP_uYQZF",
        "colab_type": "code",
        "colab": {}
      },
      "source": [
        "y_train=y_train.reshape(400,1)\n",
        "y_test=y_test.reshape(106,1)"
      ],
      "execution_count": 0,
      "outputs": []
    },
    {
      "cell_type": "code",
      "metadata": {
        "id": "lRLhemfsl4rg",
        "colab_type": "code",
        "outputId": "5252c301-b32f-4353-fd86-85f93e53511f",
        "colab": {
          "base_uri": "https://localhost:8080/",
          "height": 34
        }
      },
      "source": [
        "print(x_train.shape)"
      ],
      "execution_count": 12,
      "outputs": [
        {
          "output_type": "stream",
          "text": [
            "(400, 14)\n"
          ],
          "name": "stdout"
        }
      ]
    },
    {
      "cell_type": "code",
      "metadata": {
        "id": "SylEyul0g7oV",
        "colab_type": "code",
        "colab": {}
      },
      "source": [
        "#Cost Function::Mean Square Error\n",
        "def Cost_function(x_train,y_train,Theta):\n",
        "    m=x_train.shape[0]\n",
        "    J_Theta=(1/(2*m))*np.sum(pow((np.dot(x_train,Theta)-y_train),2))\n",
        "    return J_Theta  "
      ],
      "execution_count": 0,
      "outputs": []
    },
    {
      "cell_type": "code",
      "metadata": {
        "id": "_fgRsu6EuEy_",
        "colab_type": "code",
        "colab": {}
      },
      "source": [
        "#Gradient Descent Algorithm\n",
        "def GradientDescent(x_train,y_train,alpha,Theta):\n",
        "  m=x_train.shape[0]\n",
        "  J_Theta=Cost_function(x_train,y_train,Theta)\n",
        "  cost_list=[]\n",
        "  i=0\n",
        "  print(J_Theta)\n",
        "  dict={}\n",
        "  temp=1000000\n",
        "  max_iterations=15000\n",
        "  while(True):\n",
        "    if(temp-J_Theta<0.00001 and i>max_iterations):\n",
        "      break\n",
        "    temp=J_Theta\n",
        "    J_Theta=Cost_function(x_train,y_train,Theta)    \n",
        "    Theta=Theta-(1/m)*alpha*(np.dot(x_train.transpose(),np.dot(x_train,Theta)-y_train))\n",
        "    cost_list.append(J_Theta)\n",
        "    i+=1\n",
        "    #print(J_Theta)\n",
        "  #plt.show\n",
        "  dict['cost']=J_Theta\n",
        "  dict['parameters']=Theta\n",
        "  dict['Error']=cost_list\n",
        "  dict['No_of_Iter']=i\n",
        "  return dict"
      ],
      "execution_count": 0,
      "outputs": []
    },
    {
      "cell_type": "code",
      "metadata": {
        "id": "mLMTGRAbwyCO",
        "colab_type": "code",
        "outputId": "d32a71f4-f020-4afe-a3b0-1bb624f12cbc",
        "colab": {
          "base_uri": "https://localhost:8080/",
          "height": 50
        }
      },
      "source": [
        "#Displaying the traning error\n",
        "cost=GradientDescent(x_train,y_train,0.001,Theta)\n",
        "print(cost['cost'])"
      ],
      "execution_count": 15,
      "outputs": [
        {
          "output_type": "stream",
          "text": [
            "325.8490286972807\n",
            "11.193818087154542\n"
          ],
          "name": "stdout"
        }
      ]
    },
    {
      "cell_type": "code",
      "metadata": {
        "id": "Nhw_MjQKhr6u",
        "colab_type": "code",
        "colab": {
          "base_uri": "https://localhost:8080/",
          "height": 252
        },
        "outputId": "f7b862ce-8c53-4a5a-abb9-a98b28c0fe69"
      },
      "source": [
        "param=cost['parameters']\n",
        "print(param)"
      ],
      "execution_count": 18,
      "outputs": [
        {
          "output_type": "stream",
          "text": [
            "[[ 2.43344929e+01]\n",
            " [-1.06788017e+00]\n",
            " [ 1.00724636e+00]\n",
            " [ 1.47514027e-01]\n",
            " [ 5.29731250e-01]\n",
            " [-1.45514543e+00]\n",
            " [ 3.65195597e+00]\n",
            " [ 1.87903541e-02]\n",
            " [-2.69407059e+00]\n",
            " [ 2.48032016e+00]\n",
            " [-1.44427889e+00]\n",
            " [-1.72296151e+00]\n",
            " [ 5.81916671e-03]\n",
            " [-3.49329442e+00]]\n"
          ],
          "name": "stdout"
        }
      ]
    },
    {
      "cell_type": "code",
      "metadata": {
        "id": "KAZWOFeXs_Hu",
        "colab_type": "code",
        "colab": {
          "base_uri": "https://localhost:8080/",
          "height": 34
        },
        "outputId": "4f6fd15a-eb28-4130-f36a-17433cbcb095"
      },
      "source": [
        "test_error=Cost_function(x_test,y_test,param)\n",
        "print(test_error)"
      ],
      "execution_count": 20,
      "outputs": [
        {
          "output_type": "stream",
          "text": [
            "17.399434581576397\n"
          ],
          "name": "stdout"
        }
      ]
    },
    {
      "cell_type": "code",
      "metadata": {
        "id": "hZccvzzXoQn8",
        "colab_type": "code",
        "outputId": "d25a2a48-b577-4c60-e925-d58d9e59c27a",
        "colab": {
          "base_uri": "https://localhost:8080/",
          "height": 297
        }
      },
      "source": [
        "i=cost['No_of_Iter']\n",
        "iter=np.arange(0,i)\n",
        "error=cost['Error']\n",
        "plt.plot(iter,error)\n",
        "plt.xlabel('No_of_iterations')\n",
        "plt.ylabel('Error')\n",
        "plt.show"
      ],
      "execution_count": 21,
      "outputs": [
        {
          "output_type": "execute_result",
          "data": {
            "text/plain": [
              "<function matplotlib.pyplot.show>"
            ]
          },
          "metadata": {
            "tags": []
          },
          "execution_count": 21
        },
        {
          "output_type": "display_data",
          "data": {
            "image/png": "[encoded data removed]",
            "text/plain": [
              "<Figure size 432x288 with 1 Axes>"
            ]
          },
          "metadata": {
            "tags": [],
            "needs_background": "light"
          }
        }
      ]
    },
    {
      "cell_type": "code",
      "metadata": {
        "id": "asOJUoQkX27q",
        "colab_type": "code",
        "outputId": "fd38d443-7de3-4f90-f902-8e7ce3a22d02",
        "colab": {
          "base_uri": "https://localhost:8080/",
          "height": 34
        }
      },
      "source": [
        "m=x_test.shape[0]\n",
        "test_cost=(1/(2*m))*np.sum(pow((np.dot(x_test,param)-y_test),2))\n",
        "print(test_cost)"
      ],
      "execution_count": 22,
      "outputs": [
        {
          "output_type": "stream",
          "text": [
            "17.399434581576397\n"
          ],
          "name": "stdout"
        }
      ]
    },
    {
      "cell_type": "code",
      "metadata": {
        "id": "rEbzUtqe5RaT",
        "colab_type": "code",
        "colab": {}
      },
      "source": [
        ""
      ],
      "execution_count": 0,
      "outputs": []
    }
  ]
}