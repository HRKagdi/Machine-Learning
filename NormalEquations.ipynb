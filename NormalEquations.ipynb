{
  "nbformat": 4,
  "nbformat_minor": 0,
  "metadata": {
    "colab": {
      "name": "NormalEquations.ipynb",
      "provenance": [],
      "collapsed_sections": [],
      "authorship_tag": "ABX9TyNQuqYb8yykPILbx51G3GVI",
      "include_colab_link": true
    },
    "kernelspec": {
      "name": "python3",
      "display_name": "Python 3"
    }
  },
  "cells": [
    {
      "cell_type": "markdown",
      "metadata": {
        "id": "view-in-github",
        "colab_type": "text"
      },
      "source": [
        "<a href=\"https://colab.research.google.com/github/HRKagdi/Machine-Learning/blob/master/NormalEquations.ipynb\" target=\"_parent\"><img src=\"https://colab.research.google.com/assets/colab-badge.svg\" alt=\"Open In Colab\"/></a>"
      ]
    },
    {
      "cell_type": "code",
      "metadata": {
        "id": "I9RFpwCjx4A4",
        "colab_type": "code",
        "colab": {}
      },
      "source": [
        "#Importing the required libraries\n",
        "import numpy as np\n",
        "import matplotlib.pyplot as plt\n",
        "import sklearn"
      ],
      "execution_count": 0,
      "outputs": []
    },
    {
      "cell_type": "code",
      "metadata": {
        "id": "sJXlYRgbx5t-",
        "colab_type": "code",
        "colab": {}
      },
      "source": [
        "from sklearn import datasets\n",
        "from sklearn.preprocessing import StandardScaler"
      ],
      "execution_count": 0,
      "outputs": []
    },
    {
      "cell_type": "code",
      "metadata": {
        "id": "9MuX017Ex9hD",
        "colab_type": "code",
        "outputId": "afda3805-79bc-4b31-beef-6f6d4074f0af",
        "colab": {
          "base_uri": "https://localhost:8080/",
          "height": 34
        }
      },
      "source": [
        "#Loading the Boston Housing Dataset\n",
        "from sklearn.datasets import load_boston\n",
        "X, y = load_boston(return_X_y=True)\n",
        "print(X.shape)"
      ],
      "execution_count": 3,
      "outputs": [
        {
          "output_type": "stream",
          "text": [
            "(506, 13)\n"
          ],
          "name": "stdout"
        }
      ]
    },
    {
      "cell_type": "code",
      "metadata": {
        "id": "DSfchHN5x-EA",
        "colab_type": "code",
        "colab": {}
      },
      "source": [
        "#Dividing the dataset into training and test \n",
        "x_train=X[0:400,:]\n",
        "y_train=y[0:400]\n",
        "x_test=X[400:506,:]\n",
        "y_test=y[400:506]"
      ],
      "execution_count": 0,
      "outputs": []
    },
    {
      "cell_type": "code",
      "metadata": {
        "id": "Ue4UEBMgyAFO",
        "colab_type": "code",
        "colab": {}
      },
      "source": [
        "sc=StandardScaler()\n",
        "sc.fit(x_train)\n",
        "#Normalization\n",
        "x_train=sc.transform(x_train)\n",
        "x_test=sc.transform(x_test)"
      ],
      "execution_count": 0,
      "outputs": []
    },
    {
      "cell_type": "code",
      "metadata": {
        "id": "MUfyJRKzyCEp",
        "colab_type": "code",
        "outputId": "d4624a67-f821-41cb-d4dc-af043af815ff",
        "colab": {
          "base_uri": "https://localhost:8080/",
          "height": 34
        }
      },
      "source": [
        "print(x_train.shape)"
      ],
      "execution_count": 6,
      "outputs": [
        {
          "output_type": "stream",
          "text": [
            "(400, 13)\n"
          ],
          "name": "stdout"
        }
      ]
    },
    {
      "cell_type": "code",
      "metadata": {
        "id": "Ak4h5EzvyH1s",
        "colab_type": "code",
        "colab": {}
      },
      "source": [
        "#Initailizing the parameters randomly\n",
        "Theta=np.random.rand(14,1)"
      ],
      "execution_count": 0,
      "outputs": []
    },
    {
      "cell_type": "code",
      "metadata": {
        "id": "_XOCiL9iyKwD",
        "colab_type": "code",
        "colab": {}
      },
      "source": [
        "#Adding the dummy independent variable\n",
        "Theta[0]=1"
      ],
      "execution_count": 0,
      "outputs": []
    },
    {
      "cell_type": "code",
      "metadata": {
        "id": "OQs8AgJSyMmU",
        "colab_type": "code",
        "outputId": "c3efa1f1-9c75-4fdf-c592-e5488fa6fa5b",
        "colab": {
          "base_uri": "https://localhost:8080/",
          "height": 252
        }
      },
      "source": [
        "print(Theta)"
      ],
      "execution_count": 9,
      "outputs": [
        {
          "output_type": "stream",
          "text": [
            "[[1.        ]\n",
            " [0.44669027]\n",
            " [0.82223336]\n",
            " [0.92012887]\n",
            " [0.7884534 ]\n",
            " [0.16358658]\n",
            " [0.45992368]\n",
            " [0.04058585]\n",
            " [0.9237845 ]\n",
            " [0.04664067]\n",
            " [0.49426317]\n",
            " [0.92432457]\n",
            " [0.78361631]\n",
            " [0.05628105]]\n"
          ],
          "name": "stdout"
        }
      ]
    },
    {
      "cell_type": "code",
      "metadata": {
        "id": "c73Ow8tkyOnO",
        "colab_type": "code",
        "colab": {}
      },
      "source": [
        "#Adding the dummy independent variable\n",
        "x_train=np.insert(x_train,0,1,axis=1)\n",
        "x_test=np.insert(x_test,0,1,axis=1)"
      ],
      "execution_count": 0,
      "outputs": []
    },
    {
      "cell_type": "code",
      "metadata": {
        "id": "Mm4H5D7CyUT1",
        "colab_type": "code",
        "colab": {}
      },
      "source": [
        "y_train=y_train.reshape(400,1)\n",
        "y_test=y_test.reshape(106,1)"
      ],
      "execution_count": 0,
      "outputs": []
    },
    {
      "cell_type": "code",
      "metadata": {
        "id": "-9L1q2kpyWYq",
        "colab_type": "code",
        "outputId": "fffd5470-70f6-4aa7-b083-07436d0f6b89",
        "colab": {
          "base_uri": "https://localhost:8080/",
          "height": 34
        }
      },
      "source": [
        "print(x_train.shape)"
      ],
      "execution_count": 12,
      "outputs": [
        {
          "output_type": "stream",
          "text": [
            "(400, 14)\n"
          ],
          "name": "stdout"
        }
      ]
    },
    {
      "cell_type": "code",
      "metadata": {
        "id": "SVIAzKXQyaCt",
        "colab_type": "code",
        "colab": {}
      },
      "source": [
        "#Normal Equation Method broke down in two steps  (X.transpose,)\n",
        "temp=np.linalg.pinv(np.dot(x_train.transpose(),x_train))\n",
        "theta=np.dot(temp,np.dot(x_train.transpose(),y_train))"
      ],
      "execution_count": 0,
      "outputs": []
    },
    {
      "cell_type": "code",
      "metadata": {
        "id": "sPvGotNqzUqf",
        "colab_type": "code",
        "outputId": "a70e9b90-97b4-4289-e952-074c52f34043",
        "colab": {
          "base_uri": "https://localhost:8080/",
          "height": 252
        }
      },
      "source": [
        "print(theta)"
      ],
      "execution_count": 14,
      "outputs": [
        {
          "output_type": "stream",
          "text": [
            "[[24.3345    ]\n",
            " [-1.14370921]\n",
            " [ 1.12191092]\n",
            " [ 0.35913222]\n",
            " [ 0.48497247]\n",
            " [-1.7061696 ]\n",
            " [ 3.58169796]\n",
            " [ 0.07554815]\n",
            " [-2.8156326 ]\n",
            " [ 3.05189603]\n",
            " [-1.97502535]\n",
            " [-1.7937352 ]\n",
            " [-0.05252128]\n",
            " [-3.50239563]]\n"
          ],
          "name": "stdout"
        }
      ]
    },
    {
      "cell_type": "code",
      "metadata": {
        "id": "pcBY-zzwzWqE",
        "colab_type": "code",
        "colab": {}
      },
      "source": [
        "#Cost Function::Mean Square Error\n",
        "def Cost_function(x_train,y_train,Theta):\n",
        "    m=x_train.shape[0]\n",
        "    J_Theta=(1/(2*m))*np.sum(pow((np.dot(x_train,Theta)-y_train),2))\n",
        "    return J_Theta  "
      ],
      "execution_count": 0,
      "outputs": []
    },
    {
      "cell_type": "code",
      "metadata": {
        "id": "y0_myRypzg_m",
        "colab_type": "code",
        "outputId": "5750ce33-49cf-4746-c320-bb51895c942c",
        "colab": {
          "base_uri": "https://localhost:8080/",
          "height": 34
        }
      },
      "source": [
        "test_cost=Cost_function(x_test,y_test,theta)\n",
        "print(test_cost)"
      ],
      "execution_count": 16,
      "outputs": [
        {
          "output_type": "stream",
          "text": [
            "18.946889299800997\n"
          ],
          "name": "stdout"
        }
      ]
    },
    {
      "cell_type": "code",
      "metadata": {
        "id": "9e5vt6TDzuxc",
        "colab_type": "code",
        "outputId": "50df728d-b054-43fa-887c-151df370d265",
        "colab": {
          "base_uri": "https://localhost:8080/",
          "height": 34
        }
      },
      "source": [
        "train_cost=Cost_function(x_train,y_train,theta)\n",
        "print(train_cost)"
      ],
      "execution_count": 17,
      "outputs": [
        {
          "output_type": "stream",
          "text": [
            "11.15261279208172\n"
          ],
          "name": "stdout"
        }
      ]
    },
    {
      "cell_type": "code",
      "metadata": {
        "id": "oJL9oN2c25Rv",
        "colab_type": "code",
        "colab": {}
      },
      "source": [
        ""
      ],
      "execution_count": 0,
      "outputs": []
    }
  ]
}